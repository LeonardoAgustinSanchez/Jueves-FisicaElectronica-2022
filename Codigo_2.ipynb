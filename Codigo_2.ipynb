{
  "nbformat": 4,
  "nbformat_minor": 0,
  "metadata": {
    "colab": {
      "name": "Codigo_2.ipynb",
      "provenance": [],
      "collapsed_sections": []
    },
    "kernelspec": {
      "name": "python3",
      "display_name": "Python 3"
    },
    "language_info": {
      "name": "python"
    }
  },
  "cells": [
    {
      "cell_type": "markdown",
      "metadata": {
        "id": "DUHNMaHPwH97"
      },
      "source": [
        "### PYTHON CODIGO 2:\n",
        "Sanchez,Leonardo A.\n",
        "\n",
        "Para el modelo explicado en Física 1 conocido como \"tiro vertical\", un proyectil disparado verticalmente a determinada velocidad inicial vi tiene una posición y(t) = yi + vi * t - 0,5 * g * t^2, donde g es la gravedad terrestre para la cual consideramos un valor medio de g = 9,8 m/s^2. Escriba un programa que cree 2 listas como numpy arrays:\n",
        "- Una, conteniendo datos temporales (20 puntos en un período de 5 segundos). La creación de esta lista se hará a través del proceso conocido como \"comprensión de listas\" o \"list comprehension\".\n",
        "- Conteniendo los correspondientes datos para la posición vertical del proyectil. Esta lista se creará usando el comando \"for\".\n",
        "El programa, debe preguntarle al usuario cuál es la altura inicial yi, así como también su velocidad inicial, vi. Debe imprimir una tabla bien formateada con la lista de valores temporales y espaciales, después de haberlos calculado, y debe hacer un gráfico de la posición respecto del tiempo (se graficarán los puntos y la trayectoria).\n",
        "Para la tabla, se utilizará \"print\" junto con 3 decimales de precisión flotante para el espacio y 2 decimales para el tiempo. \n",
        "Para la gráfica se utilizará matplotlib, indicando los puntos como círculos llenos y la trayectoria en líneas punteadas usando el comando \"np.linspace\" con la resolución que corresponda para los valores temporales. La gráfica deberá contener una grilla y bien marcados los ejes. Se deja un link donde se explica cómo hacer esto último y una imagen para tomar de referencia.\n"
      ]
    },
    {
      "cell_type": "code",
      "metadata": {
        "colab": {
          "base_uri": "https://localhost:8080/",
          "height": 329
        },
        "outputId": "80f7e7a0-63b0-4621-fed5-1438e7d522e2",
        "id": "qlrNBhvyh73s"
      },
      "source": [
        "import matplotlib.pyplot as plt\n",
        "import numpy as np\n",
        "vo = float(input('Vel. Inicial: '))  # entrada de float\n",
        "yi = float(input('Altura inicial: '))\n",
        "for t in range (1, 21):\n",
        "  y = (yi+(vo*(t/4)-0.5*9.8*(t/4)**2))\n",
        "  x = [(t/4)]\n",
        "  plt.plot(x,y,\"ob--\") \n",
        "plt.xlabel(\"Posicion y(t)\")\n",
        "plt.ylabel(\"Tiempo[s]\")\n",
        "plt.title(\"Tiro vertical respecto al tiempo\")\n",
        "plt.grid(True)\n",
        "plt.show()"
      ],
      "execution_count": null,
      "outputs": [
        {
          "name": "stdout",
          "output_type": "stream",
          "text": [
            "Vel. Inicial: 30\n",
            "Altura inicial: 0\n"
          ]
        },
        {
          "output_type": "display_data",
          "data": {
            "text/plain": [
              "<Figure size 432x288 with 1 Axes>"
            ],
            "image/png": "[encoded data removed]"
          },
          "metadata": {
            "needs_background": "light"
          }
        }
      ]
    }
  ]
}